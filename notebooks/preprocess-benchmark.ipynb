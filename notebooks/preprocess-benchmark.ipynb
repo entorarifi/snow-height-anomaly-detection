{
 "cells": [
  {
   "cell_type": "code",
   "execution_count": 1,
   "metadata": {
    "tags": [],
    "ExecuteTime": {
     "end_time": "2023-12-13T10:39:16.958134386Z",
     "start_time": "2023-12-13T10:39:16.935459749Z"
    }
   },
   "outputs": [],
   "source": [
    "%load_ext autoreload\n",
    "%autoreload 2\n",
    "\n",
    "import os\n",
    "import pandas as pd"
   ]
  },
  {
   "cell_type": "code",
   "execution_count": 2,
   "outputs": [],
   "source": [
    "def truncate_at_first_valid_index(df):\n",
    "    first_valid_index = df.apply(lambda col: col.first_valid_index()).max()\n",
    "    truncated_df = df.loc[first_valid_index:]\n",
    "    return truncated_df"
   ],
   "metadata": {
    "collapsed": false,
    "ExecuteTime": {
     "end_time": "2023-12-13T10:39:16.981767013Z",
     "start_time": "2023-12-13T10:39:16.961985332Z"
    }
   }
  },
  {
   "cell_type": "code",
   "execution_count": 3,
   "outputs": [],
   "source": [
    "dfs = []\n",
    "\n",
    "read_path = '../data/labeled'\n",
    "test_path = '../data/labeled_benchmark/test'\n",
    "train_path = '../data/labeled_benchmark/train'\n",
    "\n",
    "files = os.listdir(read_path)\n",
    "\n",
    "for i, f in enumerate(files):\n",
    "    df = pd.read_csv(os.path.join(read_path, f))\n",
    "    df['measure_date'] = pd.to_datetime(df['measure_date'])\n",
    "    station_code = f[:-4]\n",
    "\n",
    "    df.set_index('measure_date', drop=True, inplace=True)\n",
    "    cols = [\n",
    "        'HS',\n",
    "        'TSS_30MIN_MEAN',\n",
    "        'RSWR_30MIN_MEAN',\n",
    "        'TA_30MIN_MEAN',\n",
    "        'VW_30MIN_MEAN',\n",
    "        'no_snow'\n",
    "    ]\n",
    "    df = df[cols]\n",
    "    \n",
    "    # 1. Truncate values at first index\n",
    "    df = truncate_at_first_valid_index(df)\n",
    "\n",
    "    aggregations = {c: 'mean' for c in cols}\n",
    "    aggregations['no_snow'] = lambda x: x.value_counts().idxmax()\n",
    "    \n",
    "    df = df.resample('D').agg(aggregations)\n",
    "\n",
    "    # 2. Replicate seasonal pattern. Only enable if 1. is disabled\n",
    "    # for col in cols[:-1]:\n",
    "        # df[col] = replicate_seasonal_pattern(df, col)[col]\n",
    "        # df[col] = df[col].fillna(df[col].mean())\n",
    "\n",
    "    df['station_code'] = station_code\n",
    "    dfs.append(df) # Avoid missing the index\n",
    "    df.reset_index(inplace=True)\n",
    "\n",
    "    save_path = test_path if station_code in ['STN2', 'SHE2', 'TRU2', 'WFJ2', 'SLF2', 'KLO2'] else train_path\n",
    "    df.to_csv(os.path.join(save_path, f))"
   ],
   "metadata": {
    "collapsed": false,
    "ExecuteTime": {
     "end_time": "2023-12-13T10:40:56.958271360Z",
     "start_time": "2023-12-13T10:39:16.985429065Z"
    }
   }
  }
 ],
 "metadata": {
  "kernelspec": {
   "display_name": "Python 3 (ipykernel)",
   "language": "python",
   "name": "python3"
  },
  "language_info": {
   "codemirror_mode": {
    "name": "ipython",
    "version": 3
   },
   "file_extension": ".py",
   "mimetype": "text/x-python",
   "name": "python",
   "nbconvert_exporter": "python",
   "pygments_lexer": "ipython3",
   "version": "3.9.16"
  }
 },
 "nbformat": 4,
 "nbformat_minor": 4
}
