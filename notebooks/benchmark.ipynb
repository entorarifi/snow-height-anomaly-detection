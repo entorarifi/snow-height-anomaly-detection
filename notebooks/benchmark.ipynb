{
 "cells": [
  {
   "cell_type": "code",
   "execution_count": 1,
   "outputs": [
    {
     "name": "stdout",
     "output_type": "stream",
     "text": [
      "README.md\t\t    quick_start_images\r\n",
      "data\t\t\t    snow_height_anomaly-Copy1.keras\r\n",
      "quick_start_advanced.ipynb  snow_height_anomaly.keras\r\n",
      "quick_start_beginner.ipynb\r\n"
     ]
    }
   ],
   "source": [
    "! ls"
   ],
   "metadata": {
    "collapsed": false,
    "ExecuteTime": {
     "end_time": "2023-10-28T09:08:53.741022651Z",
     "start_time": "2023-10-28T09:08:53.269352894Z"
    }
   },
   "id": "2c7a351fea876522"
  },
  {
   "cell_type": "code",
   "execution_count": 1,
   "outputs": [],
   "source": [
    "import random\n",
    "\n",
    "import numpy as np\n",
    "import pandas as pd\n",
    "import os\n",
    "import matplotlib.pyplot as plt\n"
   ],
   "metadata": {
    "collapsed": false,
    "ExecuteTime": {
     "start_time": "2023-10-28T09:08:28.862991981Z"
    }
   },
   "id": "e12df38587c58859"
  },
  {
   "cell_type": "code",
   "execution_count": 2,
   "outputs": [],
   "source": [
    "SEQ_SIZE = 20 \n",
    "EPOCHS = 50\n",
    "TRAIN_SIZE = 3\n",
    "VALIDATION_PERCENTAGE = 0.3\n",
    "BATCH_SIZE = 64\n",
    "SHUFFLE_SEQS = False\n",
    "SCALE = True\n"
   ],
   "metadata": {
    "collapsed": false,
    "ExecuteTime": {
     "end_time": "2023-10-27T16:21:01.983978791Z",
     "start_time": "2023-10-27T16:21:01.975729186Z"
    }
   },
   "id": "74ae9ad42224c0e9"
  },
  {
   "cell_type": "code",
   "execution_count": 4,
   "outputs": [],
   "source": [
    "def merge_into_one():\n",
    "    path = '../data/labeled_daily'\n",
    "    files = os.listdir(path)\n",
    "\n",
    "    pd.concat(pd.read_csv(f'{path}/{s}') for s in files).to_csv('merged.csv')\n",
    "    \n",
    "merge_into_one()    "
   ],
   "metadata": {
    "collapsed": false,
    "ExecuteTime": {
     "end_time": "2023-10-27T16:21:12.354140674Z",
     "start_time": "2023-10-27T16:21:11.711123392Z"
    }
   },
   "id": "9d0fa0b8f8a88ea9"
  },
  {
   "cell_type": "code",
   "execution_count": 27,
   "outputs": [],
   "source": [
    "def resample_and_save(read_path='../data/labeled', save_path='../data/labeled_daily'):\n",
    "    files = os.listdir(read_path)\n",
    "\n",
    "    for s in files:\n",
    "        station = pd.read_csv(f'{read_path}/{s}')\n",
    "        station['station_code'] = s[:-4]\n",
    "        \n",
    "        station = preprocess(station, resample='D')\n",
    "        \n",
    "        station.to_csv(f'{save_path}/{s}')"
   ],
   "metadata": {
    "collapsed": false,
    "ExecuteTime": {
     "start_time": "2023-10-27T09:35:29.541126662Z"
    }
   },
   "id": "1421ac75066a125f"
  },
  {
   "cell_type": "code",
   "execution_count": 28,
   "outputs": [],
   "source": [
    "def load_stations(path, count, shuffle = False):\n",
    "    files = os.listdir(path)\n",
    "    \n",
    "    if shuffle:\n",
    "        random.shuffle(files)\n",
    "    else:\n",
    "        files = sorted(files)\n",
    "    \n",
    "    dataframes = []\n",
    "    for s in files[:count]:\n",
    "        if not s.endswith('csv'):\n",
    "            continue\n",
    "        station = pd.read_csv(f'{path}/{s}')\n",
    "        station['station_code'] = s[:-4]\n",
    "        dataframes.append(station)\n",
    "\n",
    "    return pd.concat(dataframes, ignore_index=True), files[:count], files[count:]"
   ],
   "metadata": {
    "collapsed": false,
    "ExecuteTime": {
     "end_time": "2023-10-27T09:35:29.826150362Z",
     "start_time": "2023-10-27T09:35:29.815743833Z"
    }
   },
   "id": "7bf1ecdd72beb787"
  },
  {
   "cell_type": "code",
   "execution_count": 29,
   "outputs": [],
   "source": [
    "def load_station(path, station_name, resample=None):\n",
    "    df = pd.read_csv(f'{path}/{station_name}')\n",
    "    df['station_code'] = station_name[:-4]\n",
    "    \n",
    "    if resample is not None:\n",
    "        df = resample(df, resample) \n",
    "\n",
    "    return df"
   ],
   "metadata": {
    "collapsed": false,
    "ExecuteTime": {
     "end_time": "2023-10-27T09:35:29.921908422Z",
     "start_time": "2023-10-27T09:35:29.921480958Z"
    }
   },
   "id": "ef27b37be809580a"
  },
  {
   "cell_type": "code",
   "execution_count": 30,
   "outputs": [],
   "source": [
    "from sklearn.preprocessing import MinMaxScaler, StandardScaler\n",
    "\n",
    "\n",
    "def preprocess(df, scale=False, resample=None):\n",
    "    data = df[['station_code', 'measure_date', 'HS', 'no_snow', 'anomaly']].copy()\n",
    "    data['measure_date'] = pd.to_datetime(data['measure_date']).dt.tz_localize(None)\n",
    "    data.dropna(inplace=True)\n",
    "\n",
    "    if scale:\n",
    "        # def scale_group(group):\n",
    "        #     scaler = StandardScaler()\n",
    "        #     # TODO: Could try standardizing and then scaling\n",
    "        #     group['HS'] = scaler.fit_transform(group[['HS']])\n",
    "        #     return group\n",
    "\n",
    "        # data = data.groupby('station_code').apply(scale_group).reset_index(drop=True)\n",
    "        data['HS'] = MinMaxScaler().fit_transform(data[['HS']])\n",
    "\n",
    "    if resample:\n",
    "        data.set_index('measure_date', inplace=True)\n",
    "        data = data.groupby('station_code').resample(resample).agg({\n",
    "            'HS': lambda x: x.iloc[np.argmax(np.abs(x.values - x.mean()))],\n",
    "            'no_snow': lambda x: x.value_counts().idxmax(), # TODO: Could try x.any() to improve predictions?\n",
    "            'anomaly': lambda x: x.any()\n",
    "        }).reset_index()\n",
    "\n",
    "    return data"
   ],
   "metadata": {
    "collapsed": false,
    "ExecuteTime": {
     "end_time": "2023-10-27T09:35:30.133177597Z",
     "start_time": "2023-10-27T09:35:30.126782310Z"
    }
   },
   "id": "502fa8d6f303a5a7"
  },
  {
   "cell_type": "code",
   "execution_count": 31,
   "outputs": [],
   "source": [
    "def split_stations_into_seqs(df, y, target, seq_size, shuffle = False):\n",
    "    all_seqs = []\n",
    "\n",
    "    for name, station in df.groupby('station_code'):\n",
    "        y_values = station[y].values\n",
    "        target_values = station[target].values\n",
    "\n",
    "        num_sequences = len(y_values) - seq_size\n",
    "\n",
    "        sequences_array = np.empty((num_sequences, 2), dtype=object)\n",
    "\n",
    "        for i in range(num_sequences):\n",
    "            sequences_array[i, 0] = y_values[i: i + seq_size]\n",
    "            sequences_array[i, 1] = target_values[i + seq_size - 1]\n",
    "\n",
    "        all_seqs.extend(sequences_array)\n",
    "\n",
    "    all_seqs = np.array(all_seqs)\n",
    "\n",
    "    if shuffle:\n",
    "        np.random.shuffle(all_seqs)\n",
    "    \n",
    "    return np.stack(np.array(all_seqs[:, 0])), np.stack(np.array(all_seqs[:, 1]))"
   ],
   "metadata": {
    "collapsed": false,
    "ExecuteTime": {
     "end_time": "2023-10-27T09:35:30.381965215Z",
     "start_time": "2023-10-27T09:35:30.378478461Z"
    }
   },
   "id": "9389b46a0bcf06e5"
  },
  {
   "cell_type": "code",
   "execution_count": 32,
   "outputs": [],
   "source": [
    "def create_train_validation_split(sequences, percentage=0.2):\n",
    "    total_len = len(sequences[1])\n",
    "    validation_len = int(percentage * total_len)\n",
    "    \n",
    "    train_X = sequences[0][0:total_len - validation_len]\n",
    "    train_y = sequences[1][0:total_len - validation_len]\n",
    "    \n",
    "    val_X = sequences[0][total_len - validation_len:]\n",
    "    val_y = sequences[1][total_len - validation_len:]\n",
    "    \n",
    "    return train_X, train_y, val_X, val_y"
   ],
   "metadata": {
    "collapsed": false,
    "ExecuteTime": {
     "end_time": "2023-10-27T09:35:30.477060069Z",
     "start_time": "2023-10-27T09:35:30.476610352Z"
    }
   },
   "id": "bd6499588390fdb2"
  },
  {
   "cell_type": "code",
   "execution_count": 33,
   "outputs": [],
   "source": [
    "def plot_data(dfs, y='HS', target='no_snow', predictions=None):\n",
    "    if not isinstance(dfs, list):\n",
    "        dfs = [dfs]\n",
    "        \n",
    "    if not isinstance(predictions, list):\n",
    "        predictions = [predictions] if predictions else []\n",
    "\n",
    "    if not isinstance(y, list):\n",
    "        y = [y] * len(dfs)\n",
    "\n",
    "    if not isinstance(target, list):\n",
    "        target = [target] * len(dfs)\n",
    "\n",
    "    if len(predictions):\n",
    "        rows = len(dfs) * 2\n",
    "    else:\n",
    "        rows = len(dfs)\n",
    "\n",
    "    fig, axes = plt.subplots(rows, 1, figsize=(20, 5 * rows))\n",
    "    \n",
    "    if not isinstance(axes, np.ndarray):\n",
    "        axes = [axes] \n",
    "\n",
    "    for i, df in enumerate(dfs):\n",
    "        plot_df = df.copy()\n",
    "        plot_df.index = pd.to_datetime(plot_df['measure_date'])\n",
    "        station_code = plot_df['station_code'].iloc[0]\n",
    "        \n",
    "        # Plot original data\n",
    "        ax = axes[2 * i] if len(predictions) else axes[i]\n",
    "        ax.set_xlabel('Date')\n",
    "        ax.set_ylabel(y[i])\n",
    "        ax.set_title(f'Station: {station_code} | Original Data with Anomalies Highlighted')\n",
    "        ax.plot(plot_df.index, plot_df[y[i]], label='Data', marker='o', linestyle='-', ms=4)\n",
    "        ax.scatter(plot_df[plot_df[target[i]]].index, plot_df[plot_df[target[i]]][y[i]], color='red', label='Anomalies', zorder=5, s=20)\n",
    "        ax.legend()\n",
    "\n",
    "        # Plot predictions\n",
    "        if len(predictions):\n",
    "            ax = axes[2 * i + 1]\n",
    "            ax.set_xlabel('Date')\n",
    "            ax.set_ylabel(y[i])\n",
    "            ax.set_title(f'Station: {station_code} | Predicted Data with Anomalies Highlighted')\n",
    "            ax.plot(plot_df.index, plot_df[y[i]], label='Data', marker='o', linestyle='-', ms=4)\n",
    "            ax.scatter(plot_df[predictions[i]].index, plot_df[predictions[i]][y[i]], color='green', label='Predicted Anomalies', zorder=5, s=20)\n",
    "            ax.legend()\n",
    "\n",
    "    plt.tight_layout()\n",
    "    plt.show()\n",
    "\n",
    "def plot_keras_history(history):\n",
    "    # Plot training & validation loss values\n",
    "    plt.figure(figsize=(12, 5))\n",
    "    \n",
    "    plt.subplot(1, 2, 1)\n",
    "    plt.plot(history.history['loss'])\n",
    "    plt.plot(history.history['val_loss'])\n",
    "    plt.title('Model loss')\n",
    "    plt.ylabel('Loss')\n",
    "    plt.xlabel('Epoch')\n",
    "    plt.legend(['Train', 'Validation'], loc='upper left')\n",
    "\n",
    "    # Plot training & validation accuracy values\n",
    "    plt.subplot(1, 2, 2)\n",
    "    plt.plot(history.history['accuracy'])\n",
    "    plt.plot(history.history['val_accuracy'])\n",
    "    plt.title('Model accuracy')\n",
    "    plt.ylabel('Accuracy')\n",
    "    plt.xlabel('Epoch')\n",
    "    plt.legend(['Train', 'Validation'], loc='upper left')\n",
    "\n",
    "    plt.tight_layout()\n",
    "    plt.show()"
   ],
   "metadata": {
    "collapsed": false,
    "ExecuteTime": {
     "end_time": "2023-10-27T09:35:30.686022912Z",
     "start_time": "2023-10-27T09:35:30.683133022Z"
    }
   },
   "id": "7b1e7035e4e1b402"
  },
  {
   "cell_type": "code",
   "execution_count": 34,
   "outputs": [
    {
     "name": "stdout",
     "output_type": "stream",
     "text": [
      "AMD2.csv  FLU2.csv  GLA2.csv  KLO2.csv\tRNZ2.csv  SPN2.csv  TUM2.csv\r\n",
      "ARO3.csv  FNH2.csv  GUT2.csv  KLO3.csv\tSHE2.csv  STN2.csv  WFJ2.csv\r\n",
      "BOR2.csv  FOU2.csv  ILI2.csv  LAG3.csv\tSLF2.csv  TRU2.csv\r\n"
     ]
    }
   ],
   "source": [
    "! ls data/labeled_daily"
   ],
   "metadata": {
    "collapsed": false,
    "ExecuteTime": {
     "end_time": "2023-10-27T09:35:31.716734450Z",
     "start_time": "2023-10-27T09:35:30.889345770Z"
    }
   },
   "id": "fb1dccb2659ea2b6"
  },
  {
   "cell_type": "code",
   "execution_count": 35,
   "outputs": [],
   "source": [
    "stations_df, train_station_names, test_station_names  = load_stations('./data/labeled_daily', TRAIN_SIZE)"
   ],
   "metadata": {
    "collapsed": false,
    "ExecuteTime": {
     "end_time": "2023-10-27T09:35:31.716979456Z",
     "start_time": "2023-10-27T09:35:31.633381126Z"
    }
   },
   "id": "eb578e34eb228788"
  },
  {
   "cell_type": "code",
   "execution_count": 36,
   "outputs": [],
   "source": [
    "preprocessed_stations_df = preprocess(stations_df, scale=SCALE)"
   ],
   "metadata": {
    "collapsed": false,
    "ExecuteTime": {
     "end_time": "2023-10-27T09:35:31.918518600Z",
     "start_time": "2023-10-27T09:35:31.909094687Z"
    }
   },
   "id": "c0fcd4a984d365d7"
  },
  {
   "cell_type": "code",
   "execution_count": 37,
   "outputs": [],
   "source": [
    "sequences = split_stations_into_seqs(preprocessed_stations_df, 'HS', 'no_snow', seq_size=SEQ_SIZE, shuffle=SHUFFLE_SEQS)\n",
    "\n",
    "train_X, train_y, val_X, val_y = create_train_validation_split(sequences, percentage=VALIDATION_PERCENTAGE)"
   ],
   "metadata": {
    "collapsed": false,
    "ExecuteTime": {
     "end_time": "2023-10-27T09:35:32.465397444Z",
     "start_time": "2023-10-27T09:35:32.410097315Z"
    }
   },
   "id": "961cd4ff8be7d88c"
  },
  {
   "cell_type": "code",
   "execution_count": 38,
   "outputs": [
    {
     "data": {
      "text/plain": "((13193, 20), (13193,), (5654, 20), (5654,))"
     },
     "execution_count": 38,
     "metadata": {},
     "output_type": "execute_result"
    }
   ],
   "source": [
    "train_X.shape, train_y.shape, val_X.shape, val_y.shape"
   ],
   "metadata": {
    "collapsed": false,
    "ExecuteTime": {
     "end_time": "2023-10-27T09:35:33.024061599Z",
     "start_time": "2023-10-27T09:35:33.001196811Z"
    }
   },
   "id": "7fd35251b192d0ed"
  },
  {
   "cell_type": "code",
   "execution_count": 39,
   "outputs": [
    {
     "name": "stdout",
     "output_type": "stream",
     "text": [
      "Epoch 1/50\n",
      "207/207 [==============================] - 3s 9ms/step - loss: 0.2313 - accuracy: 0.9087 - val_loss: 0.8143 - val_accuracy: 0.6176\n",
      "Epoch 2/50\n",
      "207/207 [==============================] - 2s 8ms/step - loss: 0.2024 - accuracy: 0.9212 - val_loss: 2.3440 - val_accuracy: 0.6176\n",
      "Epoch 3/50\n",
      "207/207 [==============================] - 2s 8ms/step - loss: 0.1894 - accuracy: 0.9266 - val_loss: 1.4813 - val_accuracy: 0.6176\n",
      "Epoch 4/50\n",
      "207/207 [==============================] - 2s 8ms/step - loss: 0.1862 - accuracy: 0.9269 - val_loss: 0.4722 - val_accuracy: 0.6265\n",
      "Epoch 5/50\n",
      "207/207 [==============================] - 2s 8ms/step - loss: 0.1799 - accuracy: 0.9301 - val_loss: 1.2334 - val_accuracy: 0.6173\n",
      "Epoch 6/50\n",
      "207/207 [==============================] - 2s 8ms/step - loss: 0.1792 - accuracy: 0.9320 - val_loss: 0.4011 - val_accuracy: 0.7282\n",
      "Epoch 7/50\n",
      "207/207 [==============================] - 2s 8ms/step - loss: 0.1767 - accuracy: 0.9319 - val_loss: 0.6338 - val_accuracy: 0.8475\n",
      "Epoch 8/50\n",
      "207/207 [==============================] - 2s 8ms/step - loss: 0.1740 - accuracy: 0.9341 - val_loss: 0.4278 - val_accuracy: 0.8659\n",
      "Epoch 9/50\n",
      "207/207 [==============================] - 1s 7ms/step - loss: 0.1744 - accuracy: 0.9347 - val_loss: 0.2431 - val_accuracy: 0.9218\n",
      "Epoch 10/50\n",
      "207/207 [==============================] - 1s 7ms/step - loss: 0.1713 - accuracy: 0.9336 - val_loss: 0.3420 - val_accuracy: 0.8873\n",
      "Epoch 11/50\n",
      "207/207 [==============================] - 2s 7ms/step - loss: 0.1707 - accuracy: 0.9355 - val_loss: 0.2271 - val_accuracy: 0.9346\n",
      "Epoch 12/50\n",
      "207/207 [==============================] - 1s 7ms/step - loss: 0.1704 - accuracy: 0.9356 - val_loss: 0.2316 - val_accuracy: 0.9110\n",
      "Epoch 13/50\n",
      "207/207 [==============================] - 1s 7ms/step - loss: 0.1687 - accuracy: 0.9356 - val_loss: 1.9974 - val_accuracy: 0.6173\n",
      "Epoch 14/50\n",
      "207/207 [==============================] - 2s 8ms/step - loss: 0.1654 - accuracy: 0.9369 - val_loss: 0.2434 - val_accuracy: 0.9254\n",
      "Epoch 15/50\n",
      "207/207 [==============================] - 2s 7ms/step - loss: 0.1656 - accuracy: 0.9365 - val_loss: 0.2361 - val_accuracy: 0.9020\n",
      "Epoch 16/50\n",
      "207/207 [==============================] - 1s 7ms/step - loss: 0.1634 - accuracy: 0.9388 - val_loss: 0.2718 - val_accuracy: 0.8810\n",
      "Epoch 17/50\n",
      "207/207 [==============================] - 2s 7ms/step - loss: 0.1600 - accuracy: 0.9385 - val_loss: 0.2229 - val_accuracy: 0.9179\n",
      "Epoch 18/50\n",
      "207/207 [==============================] - 2s 8ms/step - loss: 0.1582 - accuracy: 0.9403 - val_loss: 0.2221 - val_accuracy: 0.9188\n",
      "Epoch 19/50\n",
      "207/207 [==============================] - 2s 8ms/step - loss: 0.1568 - accuracy: 0.9412 - val_loss: 0.8348 - val_accuracy: 0.6456\n",
      "Epoch 20/50\n",
      "207/207 [==============================] - 2s 7ms/step - loss: 0.1535 - accuracy: 0.9429 - val_loss: 0.2525 - val_accuracy: 0.9144\n",
      "Epoch 21/50\n",
      "207/207 [==============================] - 2s 8ms/step - loss: 0.1525 - accuracy: 0.9422 - val_loss: 0.2425 - val_accuracy: 0.9285\n",
      "Epoch 22/50\n",
      "207/207 [==============================] - 2s 8ms/step - loss: 0.1530 - accuracy: 0.9417 - val_loss: 0.3122 - val_accuracy: 0.8217\n",
      "Epoch 23/50\n",
      "207/207 [==============================] - 2s 8ms/step - loss: 0.1491 - accuracy: 0.9431 - val_loss: 0.4517 - val_accuracy: 0.8941\n",
      "Epoch 24/50\n",
      "207/207 [==============================] - 2s 8ms/step - loss: 0.1464 - accuracy: 0.9430 - val_loss: 0.5337 - val_accuracy: 0.7244\n",
      "Epoch 25/50\n",
      "207/207 [==============================] - 2s 8ms/step - loss: 0.1509 - accuracy: 0.9425 - val_loss: 1.4549 - val_accuracy: 0.6189\n",
      "Epoch 26/50\n",
      "207/207 [==============================] - 2s 8ms/step - loss: 0.1472 - accuracy: 0.9438 - val_loss: 0.2049 - val_accuracy: 0.9331\n",
      "Epoch 27/50\n",
      "207/207 [==============================] - 2s 8ms/step - loss: 0.1445 - accuracy: 0.9442 - val_loss: 0.5570 - val_accuracy: 0.7225\n",
      "Epoch 28/50\n",
      "207/207 [==============================] - 2s 8ms/step - loss: 0.1445 - accuracy: 0.9442 - val_loss: 1.3095 - val_accuracy: 0.6178\n",
      "Epoch 29/50\n",
      "207/207 [==============================] - 2s 8ms/step - loss: 0.1440 - accuracy: 0.9459 - val_loss: 0.6937 - val_accuracy: 0.7252\n",
      "Epoch 30/50\n",
      "207/207 [==============================] - 2s 7ms/step - loss: 0.1417 - accuracy: 0.9459 - val_loss: 0.2769 - val_accuracy: 0.8732\n",
      "Epoch 31/50\n",
      "207/207 [==============================] - 2s 7ms/step - loss: 0.1433 - accuracy: 0.9469 - val_loss: 0.3398 - val_accuracy: 0.8895\n",
      "Epoch 32/50\n",
      "207/207 [==============================] - 1s 7ms/step - loss: 0.1420 - accuracy: 0.9460 - val_loss: 1.4834 - val_accuracy: 0.8470\n",
      "Epoch 33/50\n",
      "207/207 [==============================] - 2s 8ms/step - loss: 0.1406 - accuracy: 0.9469 - val_loss: 3.3598 - val_accuracy: 0.6176\n",
      "Epoch 34/50\n",
      "207/207 [==============================] - 2s 7ms/step - loss: 0.1419 - accuracy: 0.9452 - val_loss: 0.2888 - val_accuracy: 0.8946\n",
      "Epoch 35/50\n",
      "207/207 [==============================] - 2s 7ms/step - loss: 0.1399 - accuracy: 0.9446 - val_loss: 0.1821 - val_accuracy: 0.9298\n",
      "Epoch 36/50\n",
      "207/207 [==============================] - 2s 8ms/step - loss: 0.1366 - accuracy: 0.9491 - val_loss: 0.2639 - val_accuracy: 0.9224\n",
      "Epoch 37/50\n",
      "207/207 [==============================] - 2s 8ms/step - loss: 0.1351 - accuracy: 0.9480 - val_loss: 0.2726 - val_accuracy: 0.9239\n",
      "Epoch 38/50\n",
      "207/207 [==============================] - 2s 8ms/step - loss: 0.1377 - accuracy: 0.9462 - val_loss: 0.3984 - val_accuracy: 0.8850\n",
      "Epoch 39/50\n",
      "207/207 [==============================] - 2s 8ms/step - loss: 0.1365 - accuracy: 0.9469 - val_loss: 5.0292 - val_accuracy: 0.6176\n",
      "Epoch 40/50\n",
      "207/207 [==============================] - 2s 8ms/step - loss: 0.1362 - accuracy: 0.9472 - val_loss: 0.2329 - val_accuracy: 0.9346\n",
      "Epoch 41/50\n",
      "207/207 [==============================] - 2s 8ms/step - loss: 0.1345 - accuracy: 0.9481 - val_loss: 3.8519 - val_accuracy: 0.6176\n",
      "Epoch 42/50\n",
      "207/207 [==============================] - 2s 8ms/step - loss: 0.1343 - accuracy: 0.9488 - val_loss: 0.7760 - val_accuracy: 0.8877\n",
      "Epoch 43/50\n",
      "207/207 [==============================] - 2s 7ms/step - loss: 0.1322 - accuracy: 0.9494 - val_loss: 0.2037 - val_accuracy: 0.9300\n",
      "Epoch 44/50\n",
      "207/207 [==============================] - 2s 7ms/step - loss: 0.1324 - accuracy: 0.9469 - val_loss: 0.6176 - val_accuracy: 0.6866\n",
      "Epoch 45/50\n",
      "207/207 [==============================] - 2s 8ms/step - loss: 0.1307 - accuracy: 0.9475 - val_loss: 1.3720 - val_accuracy: 0.8615\n",
      "Epoch 46/50\n",
      "207/207 [==============================] - 2s 8ms/step - loss: 0.1307 - accuracy: 0.9497 - val_loss: 0.6896 - val_accuracy: 0.8797\n",
      "Epoch 47/50\n",
      "207/207 [==============================] - 2s 8ms/step - loss: 0.1311 - accuracy: 0.9496 - val_loss: 0.2900 - val_accuracy: 0.8985\n",
      "Epoch 48/50\n",
      "207/207 [==============================] - 2s 8ms/step - loss: 0.1292 - accuracy: 0.9472 - val_loss: 0.2099 - val_accuracy: 0.9270\n",
      "Epoch 49/50\n",
      "207/207 [==============================] - 2s 8ms/step - loss: 0.1276 - accuracy: 0.9487 - val_loss: 0.2317 - val_accuracy: 0.9102\n",
      "Epoch 50/50\n",
      "207/207 [==============================] - 2s 7ms/step - loss: 0.1256 - accuracy: 0.9514 - val_loss: 0.3387 - val_accuracy: 0.8979\n"
     ]
    }
   ],
   "source": [
    "from datetime import datetime\n",
    "from keras.layers import CuDNNLSTM, BatchNormalization, Dropout, TimeDistributed, GlobalMaxPooling1D\n",
    "import tensorflow as tf\n",
    "from tensorflow import keras\n",
    "from keras.models import Sequential\n",
    "from keras.layers import LSTM, Dense\n",
    "from keras.callbacks import TensorBoard\n",
    "from datetime import datetime\n",
    "\n",
    "\n",
    "current_time = datetime.now().strftime('%Y-%m-%d_%H-%M-%S')\n",
    "model_name = f\"{current_time}_epochs-{EPOCHS}_seq-{SEQ_SIZE}_train-{TRAIN_SIZE}_test-{VALIDATION_PERCENTAGE}_shuffle-seqs-{SHUFFLE_SEQS}_scale-{SCALE}\"\n",
    "log_dir = f\"../logs/{model_name}\"\n",
    "tensorboard_callback = TensorBoard(log_dir=log_dir, histogram_freq=1)\n",
    "\n",
    "train_X = np.reshape(train_X, (-1, SEQ_SIZE, 1))\n",
    "# val_X = np.reshape(val_X, (-1, SEQ_SIZE, 1))\n",
    "\n",
    "model = Sequential()\n",
    "model.add(CuDNNLSTM(128, input_shape=train_X.shape[1:], return_sequences=True))\n",
    "model.add(BatchNormalization())\n",
    "model.add(Dropout(0.2))\n",
    "\n",
    "model.add(CuDNNLSTM(128, input_shape=train_X.shape[1:]))\n",
    "model.add(BatchNormalization())\n",
    "model.add(Dropout(0.2))\n",
    "\n",
    "model.add(Dense(64, activation=\"relu\"))\n",
    "model.add(Dense(8, activation=\"relu\"))\n",
    "model.add(Dense(1, activation=\"sigmoid\"))\n",
    "\n",
    "model.compile(\n",
    "    loss='binary_crossentropy',\n",
    "    # optimizer=tf.keras.optimizers.Adam(learning_rate=0.01, weight_decay=1e-6),\n",
    "    metrics=['accuracy']\n",
    ")\n",
    "hist = model.fit(\n",
    "    x=train_X,\n",
    "    y=train_y,\n",
    "    validation_data=(val_X, val_y),\n",
    "    epochs=EPOCHS,\n",
    "    batch_size=BATCH_SIZE,\n",
    "    callbacks=[tensorboard_callback]\n",
    ")"
   ],
   "metadata": {
    "collapsed": false,
    "ExecuteTime": {
     "end_time": "2023-10-27T09:36:55.174504252Z",
     "start_time": "2023-10-27T09:35:33.882540167Z"
    }
   },
   "id": "9db8658e0dccf2cf"
  },
  {
   "cell_type": "code",
   "execution_count": 40,
   "outputs": [
    {
     "data": {
      "text/plain": "<Figure size 1200x500 with 2 Axes>",
      "image/png": "[encoded data removed]"
     },
     "metadata": {},
     "output_type": "display_data"
    }
   ],
   "source": [
    "plot_keras_history(hist)"
   ],
   "metadata": {
    "collapsed": false,
    "ExecuteTime": {
     "end_time": "2023-10-27T09:36:57.276683950Z",
     "start_time": "2023-10-27T09:36:56.671661524Z"
    }
   },
   "id": "9be5d1871652140d"
  },
  {
   "cell_type": "code",
   "execution_count": 41,
   "outputs": [],
   "source": [
    "test_dfs = [preprocess(load_station(\"./data/labeled_daily\", st)) for st in test_station_names if not st.startswith(\".ipynb\")]"
   ],
   "metadata": {
    "collapsed": false,
    "ExecuteTime": {
     "end_time": "2023-10-27T09:36:59.875533726Z",
     "start_time": "2023-10-27T09:36:59.689818227Z"
    }
   },
   "id": "cb7b934661ea4d0"
  },
  {
   "cell_type": "code",
   "execution_count": 52,
   "outputs": [
    {
     "name": "stdout",
     "output_type": "stream",
     "text": [
      "290/290 [==============================] - 1s 3ms/step - loss: 0.7222 - accuracy: 0.3230\n",
      "302/302 [==============================] - 1s 3ms/step - loss: 0.7459 - accuracy: 0.2804\n",
      "245/245 [==============================] - 1s 3ms/step - loss: 0.7026 - accuracy: 0.2388\n",
      "221/221 [==============================] - 1s 3ms/step - loss: 0.7767 - accuracy: 0.3110\n",
      "290/290 [==============================] - 1s 3ms/step - loss: 0.6557 - accuracy: 0.3018\n",
      "267/267 [==============================] - 1s 3ms/step - loss: 0.7981 - accuracy: 0.1061\n",
      "255/255 [==============================] - 1s 3ms/step - loss: 0.6657 - accuracy: 0.3857\n",
      "266/266 [==============================] - 1s 3ms/step - loss: 0.7585 - accuracy: 0.2948\n",
      "262/262 [==============================] - 1s 3ms/step - loss: 0.6854 - accuracy: 0.4053\n",
      "300/300 [==============================] - 1s 3ms/step - loss: 0.6879 - accuracy: 0.3266\n",
      "300/300 [==============================] - 1s 3ms/step - loss: 0.7571 - accuracy: 0.2131\n",
      "151/151 [==============================] - 0s 3ms/step - loss: 0.7204 - accuracy: 0.3157\n",
      "163/163 [==============================] - 0s 3ms/step - loss: 0.7009 - accuracy: 0.2968\n",
      "244/244 [==============================] - 1s 3ms/step - loss: 0.7309 - accuracy: 0.3493\n"
     ]
    }
   ],
   "source": [
    "for df in test_dfs:\n",
    "    model.evaluate(df['HS'], df['no_snow'])\n"
   ],
   "metadata": {
    "collapsed": false,
    "ExecuteTime": {
     "end_time": "2023-10-27T09:32:15.210360869Z",
     "start_time": "2023-10-27T09:32:03.423242745Z"
    }
   },
   "id": "fdcba79ee7491c02"
  },
  {
   "cell_type": "code",
   "execution_count": 42,
   "outputs": [
    {
     "name": "stdout",
     "output_type": "stream",
     "text": [
      "WARNING:tensorflow:Model was constructed with shape (None, 20, 1) for input KerasTensor(type_spec=TensorSpec(shape=(None, 20, 1), dtype=tf.float32, name='cu_dnnlstm_4_input'), name='cu_dnnlstm_4_input', description=\"created by layer 'cu_dnnlstm_4_input'\"), but it was called on an input with incompatible shape (None, 1, 1).\n",
      "245/245 [==============================] - 1s 2ms/step\n",
      "Station: BOR2, Accuracy: 0.7407170294494239\n",
      "221/221 [==============================] - 0s 1ms/step\n",
      "Station: FLU2, Accuracy: 0.7537851988113768\n",
      "290/290 [==============================] - 0s 2ms/step\n",
      "Station: FNH2, Accuracy: 0.6850673854447439\n",
      "267/267 [==============================] - 0s 2ms/step\n",
      "Station: FOU2, Accuracy: 0.8869075551384327\n",
      "255/255 [==============================] - 0s 1ms/step\n",
      "Station: GLA2, Accuracy: 0.6248923871602509\n",
      "266/266 [==============================] - 0s 1ms/step\n",
      "Station: GUT2, Accuracy: 0.6474947071277346\n",
      "262/262 [==============================] - 0s 2ms/step\n",
      "Station: ILI2, Accuracy: 0.6065279770444764\n",
      "300/300 [==============================] - 0s 2ms/step\n",
      "Station: KLO2, Accuracy: 0.6727083333333334\n",
      "300/300 [==============================] - 0s 2ms/step\n",
      "Station: KLO3, Accuracy: 0.7517219787100814\n",
      "151/151 [==============================] - 0s 1ms/step\n",
      "Station: LAG3, Accuracy: 0.7122153209109731\n",
      "163/163 [==============================] - 0s 1ms/step\n",
      "Station: RNZ2, Accuracy: 0.8250723240115718\n",
      "244/244 [==============================] - 0s 1ms/step\n",
      "Station: SHE2, Accuracy: 0.6918432883750802\n",
      "289/289 [==============================] - 0s 1ms/step\n",
      "Station: SLF2, Accuracy: 0.5983944456498156\n",
      "300/300 [==============================] - 0s 2ms/step\n",
      "Station: SPN2, Accuracy: 0.589228044587978\n",
      "278/278 [==============================] - 0s 1ms/step\n",
      "Station: STN2, Accuracy: 0.7529530880863989\n",
      "300/300 [==============================] - 0s 1ms/step\n",
      "Station: TRU2, Accuracy: 0.7016776075857039\n",
      "231/231 [==============================] - 0s 1ms/step\n",
      "Station: TUM2, Accuracy: 0.7198970608153867\n",
      "347/347 [==============================] - 1s 1ms/step\n",
      "Station: WFJ2, Accuracy: 0.8272940328105283\n",
      "Avg accuracy: 0.7104665425029605\n"
     ]
    }
   ],
   "source": [
    "preds = []\n",
    "accs = []\n",
    "\n",
    "for test in test_dfs:\n",
    "    predictions = model.predict(test['HS'])\n",
    "    predicted_labels = (predictions > 0.5).astype(int).flatten()\n",
    "    correct_predictions = np.sum(predicted_labels == test['no_snow'].values.flatten())\n",
    "    accuracy = correct_predictions / len(test)\n",
    "    print(f\"Station: {test.iloc[0]['station_code']}, Accuracy: {accuracy}\")\n",
    "    \n",
    "    accs.append(accuracy)\n",
    "    preds.append(predictions > 0.5)\n",
    "    \n",
    "print(f\"Avg accuracy: {sum(accs) / len(test_dfs)}\")\n",
    "\n",
    "# plot_data(test_dfs, predictions=preds)  \n",
    "    "
   ],
   "metadata": {
    "collapsed": false,
    "ExecuteTime": {
     "end_time": "2023-10-27T09:37:10.878781402Z",
     "start_time": "2023-10-27T09:37:02.486562495Z"
    }
   },
   "id": "cd4d5d09af5dfe3a"
  },
  {
   "cell_type": "code",
   "execution_count": 453,
   "outputs": [
    {
     "name": "stdout",
     "output_type": "stream",
     "text": [
      "2/2 [==============================] - 0s 3ms/step\n"
     ]
    },
    {
     "data": {
      "text/plain": "HS\nFalse    50\nName: count, dtype: int64"
     },
     "execution_count": 453,
     "metadata": {},
     "output_type": "execute_result"
    }
   ],
   "source": [
    "((model.predict(test_dfs[0]['HS'][100:150]).reshape(-1) > 0.5) == test_dfs[0]['HS'][100:150]).value_counts()"
   ],
   "metadata": {
    "collapsed": false,
    "ExecuteTime": {
     "end_time": "2023-10-26T13:26:38.334294149Z",
     "start_time": "2023-10-26T13:26:38.280177482Z"
    }
   },
   "id": "b9b2b92ce7342e90"
  },
  {
   "cell_type": "code",
   "execution_count": null,
   "outputs": [],
   "source": [],
   "metadata": {
    "collapsed": false
   },
   "id": "7d5b62eb98c2435d"
  }
 ],
 "metadata": {
  "kernelspec": {
   "display_name": "Python 3",
   "language": "python",
   "name": "python3"
  },
  "language_info": {
   "codemirror_mode": {
    "name": "ipython",
    "version": 2
   },
   "file_extension": ".py",
   "mimetype": "text/x-python",
   "name": "python",
   "nbconvert_exporter": "python",
   "pygments_lexer": "ipython2",
   "version": "2.7.6"
  }
 },
 "nbformat": 4,
 "nbformat_minor": 5
}
