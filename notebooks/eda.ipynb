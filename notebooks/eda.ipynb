{
 "cells": [
  {
   "cell_type": "code",
   "execution_count": null,
   "id": "6f79b15d96f18b48",
   "metadata": {
    "collapsed": true
   },
   "outputs": [],
   "source": [
    "import os\n",
    "\n",
    "import matplotlib.pyplot as plt\n",
    "import pandas as pd\n",
    "\n",
    "from src.functions import replicate_seasonal_pattern"
   ]
  },
  {
   "cell_type": "code",
   "execution_count": null,
   "outputs": [],
   "source": [
    "dfs = []\n",
    "\n",
    "test_path = '../data/labeled'\n",
    "\n",
    "files = os.listdir(test_path)\n",
    "combined_df = pd.DataFrame({})\n",
    "for i, f in enumerate(files):\n",
    "    df = pd.read_csv(os.path.join(test_path, f))\n",
    "    df['station_code'] = f[:-4]\n",
    "    combined_df = pd.concat([combined_df, df], ignore_index=True)\n",
    "\n",
    "combined_df = combined_df[['station_code', 'measure_date', 'HS', 'TSS_30MIN_MEAN', 'RSWR_30MIN_MEAN', 'TA_30MIN_MEAN', 'VW_30MIN_MEAN']]"
   ],
   "metadata": {
    "collapsed": false
   },
   "id": "19b0d6aedcc5240c"
  },
  {
   "cell_type": "code",
   "execution_count": null,
   "outputs": [],
   "source": [
    "missing_values_matrix = combined_df.groupby('station_code').apply(lambda df: df.isna().sum())\n",
    "missing_values_matrix = missing_values_matrix[['TSS_30MIN_MEAN', 'RSWR_30MIN_MEAN', 'TA_30MIN_MEAN', 'VW_30MIN_MEAN']]\n",
    "missing_values_matrix = missing_values_matrix[~(missing_values_matrix < 10).all(axis=1)]\n",
    "missing_values_matrix.head(n=20)"
   ],
   "metadata": {
    "collapsed": false
   },
   "id": "59610e89d61829be"
  },
  {
   "cell_type": "code",
   "execution_count": null,
   "outputs": [],
   "source": [
    "def display_missing_values(station_code, col, show_imputations=False):\n",
    "    station = combined_df[combined_df['station_code'] == station_code][['measure_date', col]].copy()\n",
    "    station.set_index(pd.to_datetime(station['measure_date']), inplace=True)\n",
    "\n",
    "    plt.figure(figsize=(10, 5))\n",
    "    plt.plot(station[col], label='Non-missing values')\n",
    "\n",
    "    missing_values = station[station[col].isna()]\n",
    "    if len(missing_values):\n",
    "        plt.plot(station[:missing_values.index[-1]].index, [0] * len(missing_values), color='red',\n",
    "                 label='Missing values')\n",
    "\n",
    "    plt.xlabel('Measure Date')\n",
    "    plt.ylabel(col)\n",
    "    plt.legend()\n",
    "    plt.title(station_code)\n",
    "    plt.show()\n",
    "\n",
    "    if show_imputations:\n",
    "        plt.figure(figsize=(10, 5))\n",
    "        plt.plot(station[col], label='Non-missing values')\n",
    "\n",
    "        station['replicated'] = replicate_seasonal_pattern(station, col)[col]\n",
    "        plt.plot(station[:missing_values.index[-1]]['replicated'], color='orange', label='Imputed Values')\n",
    "\n",
    "        plt.xlabel('Measure Date')\n",
    "        plt.ylabel(col)\n",
    "        plt.legend()\n",
    "        plt.title(station_code)\n",
    "        plt.show()"
   ],
   "metadata": {
    "collapsed": false
   },
   "id": "e28d6fb9fc3e46b7"
  },
  {
   "cell_type": "code",
   "execution_count": null,
   "outputs": [],
   "source": [
    "def check_consecutive_missing_values(station_code, col):\n",
    "    station = combined_df[combined_df['station_code'] == station_code][['measure_date', col]].copy()\n",
    "    station.set_index(pd.to_datetime(station['measure_date']), inplace=True)\n",
    "\n",
    "    is_missing = station[col].isna()\n",
    "    first_non_missing_idx = is_missing.idxmin()\n",
    "    missing_values = is_missing.loc[:first_non_missing_idx]\n",
    "    missing_at_start = missing_values[:-1].all()\n",
    "\n",
    "    print(station_code, col, missing_at_start, first_non_missing_idx, is_missing.sum(), len(missing_values))"
   ],
   "metadata": {
    "collapsed": false
   },
   "id": "376696e8a28c6e28"
  },
  {
   "cell_type": "code",
   "execution_count": null,
   "outputs": [],
   "source": [
    "for index in missing_values_matrix.index.values:\n",
    "    for col in missing_values_matrix.columns.values:\n",
    "        check_consecutive_missing_values(index, col)"
   ],
   "metadata": {
    "collapsed": false
   },
   "id": "9498ff5a0f684d19"
  },
  {
   "cell_type": "code",
   "execution_count": null,
   "outputs": [],
   "source": [
    "for index in missing_values_matrix.index.values:\n",
    "    for col in missing_values_matrix.columns.values:\n",
    "        if missing_values_matrix.loc[index, col] == 0:\n",
    "            continue\n",
    "        display_missing_values(index, col, False)"
   ],
   "metadata": {
    "collapsed": false
   },
   "id": "f070f3d05c496879"
  }
 ],
 "metadata": {
  "kernelspec": {
   "display_name": "Python 3",
   "language": "python",
   "name": "python3"
  },
  "language_info": {
   "codemirror_mode": {
    "name": "ipython",
    "version": 2
   },
   "file_extension": ".py",
   "mimetype": "text/x-python",
   "name": "python",
   "nbconvert_exporter": "python",
   "pygments_lexer": "ipython2",
   "version": "2.7.6"
  }
 },
 "nbformat": 4,
 "nbformat_minor": 5
}
