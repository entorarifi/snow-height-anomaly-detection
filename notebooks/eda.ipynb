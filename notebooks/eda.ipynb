{
 "cells": [
  {
   "cell_type": "code",
   "execution_count": 14,
   "id": "6f79b15d96f18b48",
   "metadata": {
    "collapsed": true,
    "ExecuteTime": {
     "end_time": "2023-12-12T14:00:55.878420397Z",
     "start_time": "2023-12-12T14:00:55.784730900Z"
    }
   },
   "outputs": [],
   "source": [
    "import pandas as pd\n",
    "import os\n",
    "from src.functions import replicate_seasonal_pattern\n",
    "import matplotlib.pyplot as plt"
   ]
  },
  {
   "cell_type": "code",
   "execution_count": 15,
   "outputs": [],
   "source": [
    "dfs = []\n",
    "\n",
    "train_path = '../data/labeled'\n",
    "\n",
    "files = os.listdir(train_path)\n",
    "combined_df = pd.DataFrame({})\n",
    "for i, f in enumerate(files):\n",
    "    df = pd.read_csv(os.path.join(train_path, f))\n",
    "    df['station_code'] = f[:-4]\n",
    "    combined_df = pd.concat([combined_df, df], ignore_index=True)\n",
    "\n",
    "combined_df = combined_df[['station_code', 'measure_date', 'HS', 'TSS_30MIN_MEAN', 'RSWR_30MIN_MEAN', 'TA_30MIN_MEAN', 'VW_30MIN_MEAN']]"
   ],
   "metadata": {
    "collapsed": false,
    "ExecuteTime": {
     "end_time": "2023-12-12T14:01:18.123489782Z",
     "start_time": "2023-12-12T14:00:56.238203587Z"
    }
   },
   "id": "19b0d6aedcc5240c"
  },
  {
   "cell_type": "code",
   "execution_count": 16,
   "outputs": [
    {
     "data": {
      "text/plain": "              TSS_30MIN_MEAN  RSWR_30MIN_MEAN  TA_30MIN_MEAN  VW_30MIN_MEAN\nstation_code                                                               \nAMD2                       0                0              0             64\nARO3                   37027            37027              0          37027\nFNH2                    1024                0              0              0\nKLO2                       0                0              0          39062\nLAG3                  173040           173040              0              0\nRNZ2                   16659            16659              0              0\nTRU2                       0                4              0          51202\nTUM2                   38356            38356          38356          38356\nWFJ2                  119927           119927         119927         119927",
      "text/html": "<div>\n<style scoped>\n    .dataframe tbody tr th:only-of-type {\n        vertical-align: middle;\n    }\n\n    .dataframe tbody tr th {\n        vertical-align: top;\n    }\n\n    .dataframe thead th {\n        text-align: right;\n    }\n</style>\n<table border=\"1\" class=\"dataframe\">\n  <thead>\n    <tr style=\"text-align: right;\">\n      <th></th>\n      <th>TSS_30MIN_MEAN</th>\n      <th>RSWR_30MIN_MEAN</th>\n      <th>TA_30MIN_MEAN</th>\n      <th>VW_30MIN_MEAN</th>\n    </tr>\n    <tr>\n      <th>station_code</th>\n      <th></th>\n      <th></th>\n      <th></th>\n      <th></th>\n    </tr>\n  </thead>\n  <tbody>\n    <tr>\n      <th>AMD2</th>\n      <td>0</td>\n      <td>0</td>\n      <td>0</td>\n      <td>64</td>\n    </tr>\n    <tr>\n      <th>ARO3</th>\n      <td>37027</td>\n      <td>37027</td>\n      <td>0</td>\n      <td>37027</td>\n    </tr>\n    <tr>\n      <th>FNH2</th>\n      <td>1024</td>\n      <td>0</td>\n      <td>0</td>\n      <td>0</td>\n    </tr>\n    <tr>\n      <th>KLO2</th>\n      <td>0</td>\n      <td>0</td>\n      <td>0</td>\n      <td>39062</td>\n    </tr>\n    <tr>\n      <th>LAG3</th>\n      <td>173040</td>\n      <td>173040</td>\n      <td>0</td>\n      <td>0</td>\n    </tr>\n    <tr>\n      <th>RNZ2</th>\n      <td>16659</td>\n      <td>16659</td>\n      <td>0</td>\n      <td>0</td>\n    </tr>\n    <tr>\n      <th>TRU2</th>\n      <td>0</td>\n      <td>4</td>\n      <td>0</td>\n      <td>51202</td>\n    </tr>\n    <tr>\n      <th>TUM2</th>\n      <td>38356</td>\n      <td>38356</td>\n      <td>38356</td>\n      <td>38356</td>\n    </tr>\n    <tr>\n      <th>WFJ2</th>\n      <td>119927</td>\n      <td>119927</td>\n      <td>119927</td>\n      <td>119927</td>\n    </tr>\n  </tbody>\n</table>\n</div>"
     },
     "execution_count": 16,
     "metadata": {},
     "output_type": "execute_result"
    }
   ],
   "source": [
    "missing_values_matrix = combined_df.groupby('station_code').apply(lambda df: df.isna().sum())\n",
    "missing_values_matrix = missing_values_matrix[['TSS_30MIN_MEAN', 'RSWR_30MIN_MEAN', 'TA_30MIN_MEAN', 'VW_30MIN_MEAN']]\n",
    "missing_values_matrix = missing_values_matrix[~(missing_values_matrix < 10).all(axis=1)]\n",
    "missing_values_matrix.head(n=20)"
   ],
   "metadata": {
    "collapsed": false,
    "ExecuteTime": {
     "end_time": "2023-12-12T14:01:19.899682148Z",
     "start_time": "2023-12-12T14:01:18.344405925Z"
    }
   },
   "id": "59610e89d61829be"
  },
  {
   "cell_type": "code",
   "execution_count": 23,
   "outputs": [],
   "source": [
    "def display_missing_values(station_code, col, show_imputations=False):\n",
    "    station = combined_df[combined_df['station_code'] == station_code][['measure_date', col]].copy()\n",
    "    station.set_index(pd.to_datetime(station['measure_date']), inplace=True)\n",
    "\n",
    "    plt.figure(figsize=(10, 5))\n",
    "    plt.plot(station[col], label='Non-missing values')\n",
    "\n",
    "    missing_values = station[station[col].isna()]\n",
    "    if len(missing_values):\n",
    "        plt.plot(station[:missing_values.index[-1]].index, [0] * len(missing_values), color='red', label='Missing values')\n",
    "\n",
    "    plt.xlabel('Measure Date')\n",
    "    plt.ylabel(col)\n",
    "    plt.legend()\n",
    "    plt.title(station_code)\n",
    "    plt.show()\n",
    "    \n",
    "    if show_imputations:\n",
    "        plt.figure(figsize=(10, 5))\n",
    "        plt.plot(station[col], label='Non-missing values')\n",
    "\n",
    "        station['replicated'] = replicate_seasonal_pattern(station, col)[col]\n",
    "        plt.plot(station[:missing_values.index[-1]]['replicated'], color='orange', label='Imputed Values')\n",
    "\n",
    "        plt.xlabel('Measure Date')\n",
    "        plt.ylabel(col)\n",
    "        plt.legend()\n",
    "        plt.title(station_code)\n",
    "        plt.show()"
   ],
   "metadata": {
    "collapsed": false,
    "ExecuteTime": {
     "end_time": "2023-12-12T14:03:46.486803965Z",
     "start_time": "2023-12-12T14:03:46.444185200Z"
    }
   },
   "id": "e28d6fb9fc3e46b7"
  },
  {
   "cell_type": "code",
   "execution_count": null,
   "outputs": [],
   "source": [
    "for index in missing_values_matrix.index.values:\n",
    "    for col in missing_values_matrix.columns.values:\n",
    "        display_missing_values(index, col, False)"
   ],
   "metadata": {
    "collapsed": false
   },
   "id": "f070f3d05c496879"
  },
  {
   "cell_type": "code",
   "execution_count": 38,
   "outputs": [
    {
     "name": "stdout",
     "output_type": "stream",
     "text": [
      "Station: AMD2, Column: TSS_30MIN_MEAN, Missing: True, First idx: 1997-10-14 17:00:00+00:00, Missing len: 0, Missing cons len: 0\n",
      "Station: AMD2, Column: RSWR_30MIN_MEAN, Missing: True, First idx: 1997-10-14 17:00:00+00:00, Missing len: 0, Missing cons len: 0\n",
      "Station: AMD2, Column: TA_30MIN_MEAN, Missing: True, First idx: 1997-10-14 17:00:00+00:00, Missing len: 0, Missing cons len: 0\n",
      "Station: AMD2, Column: VW_30MIN_MEAN, Missing: True, First idx: 1997-10-16 01:00:00+00:00, Missing len: 64, Missing cons len: 64\n",
      "Station: ARO3, Column: TSS_30MIN_MEAN, Missing: True, First idx: 1998-11-11 08:30:00+00:00, Missing len: 37027, Missing cons len: 37027\n",
      "Station: ARO3, Column: RSWR_30MIN_MEAN, Missing: True, First idx: 1998-11-11 08:30:00+00:00, Missing len: 37027, Missing cons len: 37027\n",
      "Station: ARO3, Column: TA_30MIN_MEAN, Missing: True, First idx: 1996-09-30 23:00:00+00:00, Missing len: 0, Missing cons len: 0\n",
      "Station: ARO3, Column: VW_30MIN_MEAN, Missing: True, First idx: 1998-11-11 08:30:00+00:00, Missing len: 37027, Missing cons len: 37027\n",
      "Station: FNH2, Column: TSS_30MIN_MEAN, Missing: True, First idx: 1997-10-14 18:00:00+00:00, Missing len: 1024, Missing cons len: 1024\n",
      "Station: FNH2, Column: RSWR_30MIN_MEAN, Missing: True, First idx: 1997-09-23 10:00:00+00:00, Missing len: 0, Missing cons len: 0\n",
      "Station: FNH2, Column: TA_30MIN_MEAN, Missing: True, First idx: 1997-09-23 10:00:00+00:00, Missing len: 0, Missing cons len: 0\n",
      "Station: FNH2, Column: VW_30MIN_MEAN, Missing: True, First idx: 1997-09-23 10:00:00+00:00, Missing len: 0, Missing cons len: 0\n",
      "Station: KLO2, Column: TSS_30MIN_MEAN, Missing: True, First idx: 1996-11-02 18:00:00+00:00, Missing len: 0, Missing cons len: 0\n",
      "Station: KLO2, Column: RSWR_30MIN_MEAN, Missing: True, First idx: 1996-11-02 18:00:00+00:00, Missing len: 0, Missing cons len: 0\n",
      "Station: KLO2, Column: TA_30MIN_MEAN, Missing: True, First idx: 1996-11-02 18:00:00+00:00, Missing len: 0, Missing cons len: 0\n",
      "Station: KLO2, Column: VW_30MIN_MEAN, Missing: True, First idx: 1999-01-25 13:00:00+00:00, Missing len: 39062, Missing cons len: 39062\n",
      "Station: LAG3, Column: TSS_30MIN_MEAN, Missing: True, First idx: 2019-10-08 09:30:00+00:00, Missing len: 173040, Missing cons len: 173040\n",
      "Station: LAG3, Column: RSWR_30MIN_MEAN, Missing: True, First idx: 2019-10-08 09:30:00+00:00, Missing len: 173040, Missing cons len: 173040\n",
      "Station: LAG3, Column: TA_30MIN_MEAN, Missing: True, First idx: 2009-11-24 09:30:00+00:00, Missing len: 0, Missing cons len: 0\n",
      "Station: LAG3, Column: VW_30MIN_MEAN, Missing: True, First idx: 2009-11-24 09:30:00+00:00, Missing len: 0, Missing cons len: 0\n",
      "Station: RNZ2, Column: TSS_30MIN_MEAN, Missing: True, First idx: 2009-11-16 10:30:00+00:00, Missing len: 16659, Missing cons len: 16659\n",
      "Station: RNZ2, Column: RSWR_30MIN_MEAN, Missing: True, First idx: 2009-11-16 10:30:00+00:00, Missing len: 16659, Missing cons len: 16659\n",
      "Station: RNZ2, Column: TA_30MIN_MEAN, Missing: True, First idx: 2008-12-04 09:00:00+00:00, Missing len: 0, Missing cons len: 0\n",
      "Station: RNZ2, Column: VW_30MIN_MEAN, Missing: True, First idx: 2008-12-04 09:00:00+00:00, Missing len: 0, Missing cons len: 0\n",
      "Station: TRU2, Column: TSS_30MIN_MEAN, Missing: True, First idx: 1996-11-05 21:00:00+00:00, Missing len: 0, Missing cons len: 0\n",
      "Station: TRU2, Column: RSWR_30MIN_MEAN, Missing: True, First idx: 1996-11-05 23:00:00+00:00, Missing len: 4, Missing cons len: 4\n",
      "Station: TRU2, Column: TA_30MIN_MEAN, Missing: True, First idx: 1996-11-05 21:00:00+00:00, Missing len: 0, Missing cons len: 0\n",
      "Station: TRU2, Column: VW_30MIN_MEAN, Missing: True, First idx: 1999-10-08 14:00:00+00:00, Missing len: 51202, Missing cons len: 51202\n",
      "Station: TUM2, Column: TSS_30MIN_MEAN, Missing: True, First idx: 2002-10-27 08:00:00+00:00, Missing len: 38356, Missing cons len: 38356\n",
      "Station: TUM2, Column: RSWR_30MIN_MEAN, Missing: True, First idx: 2002-10-27 08:00:00+00:00, Missing len: 38356, Missing cons len: 38356\n",
      "Station: TUM2, Column: TA_30MIN_MEAN, Missing: True, First idx: 2002-10-27 08:00:00+00:00, Missing len: 38356, Missing cons len: 38356\n",
      "Station: TUM2, Column: VW_30MIN_MEAN, Missing: True, First idx: 2002-10-27 08:00:00+00:00, Missing len: 38356, Missing cons len: 38356\n",
      "Station: WFJ2, Column: TSS_30MIN_MEAN, Missing: True, First idx: 1999-08-04 11:00:00+00:00, Missing len: 119927, Missing cons len: 119927\n",
      "Station: WFJ2, Column: RSWR_30MIN_MEAN, Missing: True, First idx: 1999-08-04 11:00:00+00:00, Missing len: 119927, Missing cons len: 119927\n",
      "Station: WFJ2, Column: TA_30MIN_MEAN, Missing: True, First idx: 1999-08-04 11:00:00+00:00, Missing len: 119927, Missing cons len: 119927\n",
      "Station: WFJ2, Column: VW_30MIN_MEAN, Missing: True, First idx: 1999-08-04 11:00:00+00:00, Missing len: 119927, Missing cons len: 119927\n"
     ]
    }
   ],
   "source": [
    "def check_consecutive_missing_values(station_code, col):\n",
    "    station = combined_df[combined_df['station_code'] == station_code][['measure_date', col]].copy()\n",
    "    station.set_index(pd.to_datetime(station['measure_date']), inplace=True)\n",
    "    \n",
    "    is_missing = station[col].isna()\n",
    "    first_non_missing_idx = is_missing.idxmin()\n",
    "    missing_values = is_missing.loc[:first_non_missing_idx]\n",
    "    missing_at_start = missing_values[:-1].all()\n",
    "    \n",
    "    print(station_code, col, missing_at_start, first_non_missing_idx, is_missing.sum(), len(missing_values))\n",
    "\n",
    "for index in missing_values_matrix.index.values:\n",
    "    for col in missing_values_matrix.columns.values:\n",
    "        check_consecutive_missing_values(index, col)"
   ],
   "metadata": {
    "collapsed": false,
    "ExecuteTime": {
     "end_time": "2023-12-12T14:28:34.128990846Z",
     "start_time": "2023-12-12T14:27:11.446909989Z"
    }
   },
   "id": "9498ff5a0f684d19"
  }
 ],
 "metadata": {
  "kernelspec": {
   "display_name": "Python 3",
   "language": "python",
   "name": "python3"
  },
  "language_info": {
   "codemirror_mode": {
    "name": "ipython",
    "version": 2
   },
   "file_extension": ".py",
   "mimetype": "text/x-python",
   "name": "python",
   "nbconvert_exporter": "python",
   "pygments_lexer": "ipython2",
   "version": "2.7.6"
  }
 },
 "nbformat": 4,
 "nbformat_minor": 5
}
